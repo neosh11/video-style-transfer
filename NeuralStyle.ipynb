{
  "cells": [
    {
      "cell_type": "markdown",
      "metadata": {
        "colab_type": "text",
        "id": "view-in-github"
      },
      "source": [
        "<a href=\"https://colab.research.google.com/github/SananSuleymanov/Neural_Style_Transfer_video/blob/main/NeuralStyle.ipynb\" target=\"_parent\"><img src=\"https://colab.research.google.com/assets/colab-badge.svg\" alt=\"Open In Colab\"/></a>"
      ]
    },
    {
      "attachments": {},
      "cell_type": "markdown",
      "metadata": {
        "id": "AboMbWOSllPQ"
      },
      "source": [
        "**Steps to follow:**\n",
        "1. Load imports\n",
        "2. Load models\n",
        "2. Read style image and preprocess\n",
        "3. Read the frame of the video and preprocess it\n",
        "4. Apply Neural style transfer to the frame \n",
        "5. Fill in the gaps"
      ]
    },
    {
      "attachments": {},
      "cell_type": "markdown",
      "metadata": {
        "id": "lN3chac0WFTW"
      },
      "source": [
        "#Install / load deps"
      ]
    },
    {
      "cell_type": "code",
      "execution_count": 11,
      "metadata": {
        "id": "2bx7Ml25WE3S"
      },
      "outputs": [
        {
          "name": "stdout",
          "output_type": "stream",
          "text": [
            "Requirement already satisfied: tensorflow_hub in z:\\anaconda\\envs\\3dicomplugins_air_remove\\lib\\site-packages (0.12.0)\n",
            "Requirement already satisfied: numpy>=1.12.0 in z:\\anaconda\\envs\\3dicomplugins_air_remove\\lib\\site-packages (from tensorflow_hub) (1.21.0)\n",
            "Requirement already satisfied: protobuf>=3.8.0 in z:\\anaconda\\envs\\3dicomplugins_air_remove\\lib\\site-packages (from tensorflow_hub) (3.19.6)\n",
            "Requirement already satisfied: tensorflow in z:\\anaconda\\envs\\3dicomplugins_air_remove\\lib\\site-packages (2.11.0)\n",
            "Requirement already satisfied: tensorflow-intel==2.11.0 in z:\\anaconda\\envs\\3dicomplugins_air_remove\\lib\\site-packages (from tensorflow) (2.11.0)\n",
            "Requirement already satisfied: termcolor>=1.1.0 in z:\\anaconda\\envs\\3dicomplugins_air_remove\\lib\\site-packages (from tensorflow-intel==2.11.0->tensorflow) (2.2.0)\n",
            "Requirement already satisfied: wrapt>=1.11.0 in c:\\users\\techfast australia\\appdata\\roaming\\python\\python39\\site-packages (from tensorflow-intel==2.11.0->tensorflow) (1.12.1)\n",
            "Requirement already satisfied: gast<=0.4.0,>=0.2.1 in z:\\anaconda\\envs\\3dicomplugins_air_remove\\lib\\site-packages (from tensorflow-intel==2.11.0->tensorflow) (0.4.0)\n",
            "Requirement already satisfied: opt-einsum>=2.3.2 in z:\\anaconda\\envs\\3dicomplugins_air_remove\\lib\\site-packages (from tensorflow-intel==2.11.0->tensorflow) (3.3.0)\n",
            "Requirement already satisfied: packaging in c:\\users\\techfast australia\\appdata\\roaming\\python\\python39\\site-packages (from tensorflow-intel==2.11.0->tensorflow) (23.0)\n",
            "Requirement already satisfied: tensorboard<2.12,>=2.11 in z:\\anaconda\\envs\\3dicomplugins_air_remove\\lib\\site-packages (from tensorflow-intel==2.11.0->tensorflow) (2.11.2)\n",
            "Requirement already satisfied: h5py>=2.9.0 in z:\\anaconda\\envs\\3dicomplugins_air_remove\\lib\\site-packages (from tensorflow-intel==2.11.0->tensorflow) (3.8.0)\n",
            "Requirement already satisfied: grpcio<2.0,>=1.24.3 in z:\\anaconda\\envs\\3dicomplugins_air_remove\\lib\\site-packages (from tensorflow-intel==2.11.0->tensorflow) (1.51.1)\n",
            "Requirement already satisfied: protobuf<3.20,>=3.9.2 in z:\\anaconda\\envs\\3dicomplugins_air_remove\\lib\\site-packages (from tensorflow-intel==2.11.0->tensorflow) (3.19.6)\n",
            "Requirement already satisfied: typing-extensions>=3.6.6 in z:\\anaconda\\envs\\3dicomplugins_air_remove\\lib\\site-packages (from tensorflow-intel==2.11.0->tensorflow) (4.4.0)\n",
            "Requirement already satisfied: flatbuffers>=2.0 in z:\\anaconda\\envs\\3dicomplugins_air_remove\\lib\\site-packages (from tensorflow-intel==2.11.0->tensorflow) (23.1.21)\n",
            "Requirement already satisfied: google-pasta>=0.1.1 in z:\\anaconda\\envs\\3dicomplugins_air_remove\\lib\\site-packages (from tensorflow-intel==2.11.0->tensorflow) (0.2.0)\n",
            "Requirement already satisfied: six>=1.12.0 in c:\\users\\techfast australia\\appdata\\roaming\\python\\python39\\site-packages (from tensorflow-intel==2.11.0->tensorflow) (1.15.0)\n",
            "Requirement already satisfied: keras<2.12,>=2.11.0 in z:\\anaconda\\envs\\3dicomplugins_air_remove\\lib\\site-packages (from tensorflow-intel==2.11.0->tensorflow) (2.11.0)\n",
            "Requirement already satisfied: numpy>=1.20 in z:\\anaconda\\envs\\3dicomplugins_air_remove\\lib\\site-packages (from tensorflow-intel==2.11.0->tensorflow) (1.21.0)\n",
            "Requirement already satisfied: astunparse>=1.6.0 in z:\\anaconda\\envs\\3dicomplugins_air_remove\\lib\\site-packages (from tensorflow-intel==2.11.0->tensorflow) (1.6.3)\n",
            "Requirement already satisfied: libclang>=13.0.0 in z:\\anaconda\\envs\\3dicomplugins_air_remove\\lib\\site-packages (from tensorflow-intel==2.11.0->tensorflow) (15.0.6.1)\n",
            "Requirement already satisfied: tensorflow-io-gcs-filesystem>=0.23.1 in z:\\anaconda\\envs\\3dicomplugins_air_remove\\lib\\site-packages (from tensorflow-intel==2.11.0->tensorflow) (0.30.0)\n",
            "Requirement already satisfied: setuptools in z:\\anaconda\\envs\\3dicomplugins_air_remove\\lib\\site-packages (from tensorflow-intel==2.11.0->tensorflow) (52.0.0.post20210125)\n",
            "Requirement already satisfied: absl-py>=1.0.0 in z:\\anaconda\\envs\\3dicomplugins_air_remove\\lib\\site-packages (from tensorflow-intel==2.11.0->tensorflow) (1.4.0)\n",
            "Requirement already satisfied: tensorflow-estimator<2.12,>=2.11.0 in z:\\anaconda\\envs\\3dicomplugins_air_remove\\lib\\site-packages (from tensorflow-intel==2.11.0->tensorflow) (2.11.0)\n",
            "Requirement already satisfied: wheel<1.0,>=0.23.0 in z:\\anaconda\\envs\\3dicomplugins_air_remove\\lib\\site-packages (from astunparse>=1.6.0->tensorflow-intel==2.11.0->tensorflow) (0.35.1)\n",
            "Requirement already satisfied: google-auth<3,>=1.6.3 in z:\\anaconda\\envs\\3dicomplugins_air_remove\\lib\\site-packages (from tensorboard<2.12,>=2.11->tensorflow-intel==2.11.0->tensorflow) (2.16.0)\n",
            "Requirement already satisfied: requests<3,>=2.21.0 in z:\\anaconda\\envs\\3dicomplugins_air_remove\\lib\\site-packages (from tensorboard<2.12,>=2.11->tensorflow-intel==2.11.0->tensorflow) (2.28.2)\n",
            "Requirement already satisfied: tensorboard-data-server<0.7.0,>=0.6.0 in z:\\anaconda\\envs\\3dicomplugins_air_remove\\lib\\site-packages (from tensorboard<2.12,>=2.11->tensorflow-intel==2.11.0->tensorflow) (0.6.1)\n",
            "Requirement already satisfied: google-auth-oauthlib<0.5,>=0.4.1 in z:\\anaconda\\envs\\3dicomplugins_air_remove\\lib\\site-packages (from tensorboard<2.12,>=2.11->tensorflow-intel==2.11.0->tensorflow) (0.4.6)\n",
            "Requirement already satisfied: werkzeug>=1.0.1 in z:\\anaconda\\envs\\3dicomplugins_air_remove\\lib\\site-packages (from tensorboard<2.12,>=2.11->tensorflow-intel==2.11.0->tensorflow) (2.2.2)\n",
            "Requirement already satisfied: markdown>=2.6.8 in z:\\anaconda\\envs\\3dicomplugins_air_remove\\lib\\site-packages (from tensorboard<2.12,>=2.11->tensorflow-intel==2.11.0->tensorflow) (3.4.1)\n",
            "Requirement already satisfied: tensorboard-plugin-wit>=1.6.0 in z:\\anaconda\\envs\\3dicomplugins_air_remove\\lib\\site-packages (from tensorboard<2.12,>=2.11->tensorflow-intel==2.11.0->tensorflow) (1.8.1)\n",
            "Requirement already satisfied: cachetools<6.0,>=2.0.0 in z:\\anaconda\\envs\\3dicomplugins_air_remove\\lib\\site-packages (from google-auth<3,>=1.6.3->tensorboard<2.12,>=2.11->tensorflow-intel==2.11.0->tensorflow) (5.3.0)\n",
            "Requirement already satisfied: pyasn1-modules>=0.2.1 in z:\\anaconda\\envs\\3dicomplugins_air_remove\\lib\\site-packages (from google-auth<3,>=1.6.3->tensorboard<2.12,>=2.11->tensorflow-intel==2.11.0->tensorflow) (0.2.8)\n",
            "Requirement already satisfied: rsa<5,>=3.1.4 in z:\\anaconda\\envs\\3dicomplugins_air_remove\\lib\\site-packages (from google-auth<3,>=1.6.3->tensorboard<2.12,>=2.11->tensorflow-intel==2.11.0->tensorflow) (4.9)\n",
            "Requirement already satisfied: requests-oauthlib>=0.7.0 in z:\\anaconda\\envs\\3dicomplugins_air_remove\\lib\\site-packages (from google-auth-oauthlib<0.5,>=0.4.1->tensorboard<2.12,>=2.11->tensorflow-intel==2.11.0->tensorflow) (1.3.1)\n",
            "Requirement already satisfied: importlib-metadata>=4.4 in c:\\users\\techfast australia\\appdata\\roaming\\python\\python39\\site-packages (from markdown>=2.6.8->tensorboard<2.12,>=2.11->tensorflow-intel==2.11.0->tensorflow) (6.0.0)\n",
            "Requirement already satisfied: zipp>=0.5 in c:\\users\\techfast australia\\appdata\\roaming\\python\\python39\\site-packages (from importlib-metadata>=4.4->markdown>=2.6.8->tensorboard<2.12,>=2.11->tensorflow-intel==2.11.0->tensorflow) (3.13.0)\n",
            "Requirement already satisfied: pyasn1<0.5.0,>=0.4.6 in z:\\anaconda\\envs\\3dicomplugins_air_remove\\lib\\site-packages (from pyasn1-modules>=0.2.1->google-auth<3,>=1.6.3->tensorboard<2.12,>=2.11->tensorflow-intel==2.11.0->tensorflow) (0.4.8)\n",
            "Requirement already satisfied: idna<4,>=2.5 in z:\\anaconda\\envs\\3dicomplugins_air_remove\\lib\\site-packages (from requests<3,>=2.21.0->tensorboard<2.12,>=2.11->tensorflow-intel==2.11.0->tensorflow) (3.4)\n",
            "Requirement already satisfied: urllib3<1.27,>=1.21.1 in z:\\anaconda\\envs\\3dicomplugins_air_remove\\lib\\site-packages (from requests<3,>=2.21.0->tensorboard<2.12,>=2.11->tensorflow-intel==2.11.0->tensorflow) (1.26.14)\n",
            "Requirement already satisfied: certifi>=2017.4.17 in z:\\anaconda\\envs\\3dicomplugins_air_remove\\lib\\site-packages (from requests<3,>=2.21.0->tensorboard<2.12,>=2.11->tensorflow-intel==2.11.0->tensorflow) (2021.5.30)\n",
            "Requirement already satisfied: charset-normalizer<4,>=2 in z:\\anaconda\\envs\\3dicomplugins_air_remove\\lib\\site-packages (from requests<3,>=2.21.0->tensorboard<2.12,>=2.11->tensorflow-intel==2.11.0->tensorflow) (3.0.1)\n",
            "Requirement already satisfied: oauthlib>=3.0.0 in z:\\anaconda\\envs\\3dicomplugins_air_remove\\lib\\site-packages (from requests-oauthlib>=0.7.0->google-auth-oauthlib<0.5,>=0.4.1->tensorboard<2.12,>=2.11->tensorflow-intel==2.11.0->tensorflow) (3.2.2)\n",
            "Requirement already satisfied: MarkupSafe>=2.1.1 in z:\\anaconda\\envs\\3dicomplugins_air_remove\\lib\\site-packages (from werkzeug>=1.0.1->tensorboard<2.12,>=2.11->tensorflow-intel==2.11.0->tensorflow) (2.1.2)\n",
            "Collecting matplotlib\n",
            "  Downloading matplotlib-3.6.3-cp39-cp39-win_amd64.whl (7.2 MB)\n",
            "Collecting pillow>=6.2.0\n",
            "  Downloading Pillow-9.4.0-cp39-cp39-win_amd64.whl (2.5 MB)\n",
            "Collecting kiwisolver>=1.0.1\n",
            "  Downloading kiwisolver-1.4.4-cp39-cp39-win_amd64.whl (55 kB)\n",
            "Collecting fonttools>=4.22.0\n",
            "  Downloading fonttools-4.38.0-py3-none-any.whl (965 kB)\n",
            "Requirement already satisfied: python-dateutil>=2.7 in c:\\users\\techfast australia\\appdata\\roaming\\python\\python39\\site-packages (from matplotlib) (2.8.2)\n",
            "Collecting pyparsing>=2.2.1\n",
            "  Downloading pyparsing-3.0.9-py3-none-any.whl (98 kB)\n",
            "Requirement already satisfied: packaging>=20.0 in c:\\users\\techfast australia\\appdata\\roaming\\python\\python39\\site-packages (from matplotlib) (23.0)\n",
            "Collecting cycler>=0.10\n",
            "  Downloading cycler-0.11.0-py3-none-any.whl (6.4 kB)\n",
            "Requirement already satisfied: numpy>=1.19 in z:\\anaconda\\envs\\3dicomplugins_air_remove\\lib\\site-packages (from matplotlib) (1.21.0)\n",
            "Collecting contourpy>=1.0.1\n",
            "  Downloading contourpy-1.0.7-cp39-cp39-win_amd64.whl (160 kB)\n",
            "Requirement already satisfied: six>=1.5 in c:\\users\\techfast australia\\appdata\\roaming\\python\\python39\\site-packages (from python-dateutil>=2.7->matplotlib) (1.15.0)\n",
            "Installing collected packages: pyparsing, pillow, kiwisolver, fonttools, cycler, contourpy, matplotlib\n",
            "Successfully installed contourpy-1.0.7 cycler-0.11.0 fonttools-4.38.0 kiwisolver-1.4.4 matplotlib-3.6.3 pillow-9.4.0 pyparsing-3.0.9\n"
          ]
        }
      ],
      "source": [
        "#Uncomment this to install these packages\n",
        "\n",
        "# import sys\n",
        "# !pip install tensorflow_hub\n",
        "# !pip install tensorflow\n",
        "# !pip install matplotlib\n",
        "\n",
        "import tensorflow as tf\n",
        "import tensorflow_hub as hub\n",
        "import matplotlib.pyplot as plt\n",
        "import numpy as np\n",
        "import cv2 as cv2\n",
        "import PIL\n",
        "import asyncio\n",
        "\n"
      ]
    },
    {
      "attachments": {},
      "cell_type": "markdown",
      "metadata": {
        "id": "I5Ga0HNGS2SY"
      },
      "source": [
        "#Load models"
      ]
    },
    {
      "cell_type": "code",
      "execution_count": 6,
      "metadata": {
        "id": "MpC9coVGS6to"
      },
      "outputs": [],
      "source": [
        "hub_model = hub.load('https://tfhub.dev/google/magenta/arbitrary-image-stylization-v1-256/2')\n",
        "filmModel = hub.load('https://tfhub.dev/google/film/1')\n"
      ]
    },
    {
      "cell_type": "markdown",
      "metadata": {
        "id": "72ilBhK0QIa2"
      },
      "source": [
        "#Processing image"
      ]
    },
    {
      "cell_type": "code",
      "execution_count": 7,
      "metadata": {
        "id": "hOIlkH-HoWfs"
      },
      "outputs": [],
      "source": [
        "#read image, convert to tensor, normalize and resize \n",
        "def image_read(image):\n",
        "  max_dim=512\n",
        "  image= tf.convert_to_tensor(image, dtype = tf.float32)\n",
        "  image= image/255.0\n",
        "  shape = tf.cast(tf.shape(image)[:-1], tf.float32)\n",
        "  long_dim = max(shape)\n",
        "  scale = max_dim/long_dim\n",
        "  new_shape = tf.cast(shape*scale, tf.int32)\n",
        "  new_image = tf.image.resize(image, new_shape)\n",
        "  new_image = new_image[tf.newaxis, :]\n",
        "  \n",
        "  return new_image"
      ]
    },
    {
      "cell_type": "code",
      "execution_count": 8,
      "metadata": {
        "id": "LnLRvvG1m7X7"
      },
      "outputs": [],
      "source": [
        "#convert tensor to numpy array\n",
        "def tensor_toimage(tensor):\n",
        "  tensor =tensor*255\n",
        "  tensor = np.array(tensor, dtype=np.uint8)\n",
        "  if np.ndim(tensor)>3:\n",
        "    assert tensor.shape[0]==1\n",
        "    tensor=tensor[0]\n",
        "\n",
        "  return tensor"
      ]
    },
    {
      "cell_type": "code",
      "execution_count": 75,
      "metadata": {},
      "outputs": [],
      "source": [
        "async def interpolated_frames(pim_image_numpy, nim_image_numpy, i):\n",
        "    time = np.array([i], dtype=np.float32)\n",
        "    input = {\n",
        "    'x0': np.expand_dims(pim_image_numpy, axis=0), # adding the batch dimension to the time\n",
        "    'x1': np.expand_dims(nim_image_numpy, axis=0),\n",
        "    'time': np.expand_dims(time, axis=0)\n",
        "    }\n",
        "    return filmModel(input)['image']\n"
      ]
    },
    {
      "attachments": {},
      "cell_type": "markdown",
      "metadata": {
        "id": "b_lkPPjiovq6"
      },
      "source": [
        "#Transfer Video\n",
        "\n",
        "choose your video and style here...\n",
        "\n"
      ]
    },
    {
      "cell_type": "code",
      "execution_count": 87,
      "metadata": {
        "id": "38KTlUdwlx0G"
      },
      "outputs": [
        {
          "name": "stdout",
          "output_type": "stream",
          "text": [
            "frame is written 0\n",
            "frame is written 10\n",
            "frame is written 10\n",
            "frame is written 20\n",
            "frame is written 20\n",
            "frame is written 30\n",
            "frame is written 30\n",
            "frame is written 40\n",
            "frame is written 40\n",
            "frame is written 50\n",
            "frame is written 50\n",
            "frame is written 60\n",
            "frame is written 60\n",
            "frame is written 70\n",
            "frame is written 70\n",
            "frame is written 80\n",
            "frame is written 80\n",
            "frame is written 90\n",
            "frame is written 90\n",
            "frame is written 100\n",
            "frame is written 100\n",
            "frame is written 110\n",
            "frame is written 110\n",
            "frame is written 120\n",
            "frame is written 120\n",
            "frame is written 130\n",
            "frame is written 130\n",
            "frame is written 140\n",
            "frame is written 140\n",
            "frame is written 150\n",
            "frame is written 150\n",
            "frame is written 160\n",
            "frame is written 160\n",
            "frame is written 170\n",
            "frame is written 170\n",
            "frame is written 180\n",
            "frame is written 180\n",
            "frame is written 190\n",
            "frame is written 190\n",
            "frame is written 200\n",
            "frame is written 200\n",
            "frame is written 210\n",
            "frame is written 210\n",
            "frame is written 220\n",
            "frame is written 220\n",
            "frame is written 230\n",
            "frame is written 230\n",
            "frame is written 240\n",
            "frame is written 240\n",
            "frame is written 250\n",
            "frame is written 250\n",
            "frame is written 260\n",
            "frame is written 260\n",
            "frame is written 270\n",
            "frame is written 270\n",
            "frame is written 280\n",
            "frame is written 280\n",
            "frame is written 290\n",
            "frame is written 290\n"
          ]
        }
      ],
      "source": [
        "style_im = cv2.imread(\"./style6.webp\")\n",
        "style_im = cv2.cvtColor(style_im, cv2.COLOR_BGR2RGB)\n",
        "style_im = image_read(style_im)\n",
        "cap = cv2.VideoCapture(\"./content1.m4v\")\n",
        "\n",
        "#in order to get the size of width and shape of video, we used first frame of video\n",
        "ret, frame = cap.read()\n",
        "\n",
        "frame_width = image_read(frame)[0].shape[1]\n",
        "frame_height= image_read(frame)[0].shape[0]\n",
        "\n",
        "\n",
        "out = cv2.VideoWriter('output.mp4', cv2.VideoWriter_fourcc(*'XVID'),20, \n",
        "                      (frame_width,frame_height))\n",
        "\n",
        "\n",
        "# resue the generated image as a base for the next frame?\n",
        "prev_image = None\n",
        "count = 0\n",
        "while True:\n",
        "  ret, frame = cap.read()\n",
        "\n",
        "  # if count > 15:\n",
        "  #   break\n",
        "  if ret == True:\n",
        "    if count % 10 == 0:\n",
        "      frame = cv2.cvtColor(frame, cv2.COLOR_BGR2RGB)\n",
        "      frame = image_read(frame)\n",
        "      stylized_frame = hub_model(tf.constant(frame), tf.constant(style_im))[0]\n",
        "      next_image = tensor_toimage(stylized_frame)\n",
        "\n",
        "      if(prev_image is not None):\n",
        "        pim_image_numpy = tf.cast(prev_image, dtype=tf.float32).numpy()/ 255\n",
        "        nim_image_numpy = tf.cast(next_image, dtype=tf.float32).numpy()/ 255\n",
        "        # generate images in the middle\n",
        "        L = await asyncio.gather(\n",
        "          interpolated_frames(pim_image_numpy, nim_image_numpy, 0.2),\n",
        "          interpolated_frames(pim_image_numpy, nim_image_numpy, 0.4),\n",
        "          interpolated_frames(pim_image_numpy, nim_image_numpy, 0.6),\n",
        "          interpolated_frames(pim_image_numpy, nim_image_numpy, 0.8)\n",
        "        )\n",
        "        for f in L:\n",
        "          out.write(tensor_toimage(f))\n",
        "        print(\"frame is written\", count)\n",
        "      prev_image = next_image\n",
        "      \n",
        "      # replace style image with the generated image\n",
        "      # style_im = stylized_frame\n",
        "\n",
        "      # generate frames in the middle...\n",
        "      \n",
        "      out.write(next_image)\n",
        "      print(\"frame is written\", count)\n",
        "  else:\n",
        "    break\n",
        "  count+=1\n",
        "\n",
        "cap.release()\n",
        "out.release()"
      ]
    }
  ],
  "metadata": {
    "accelerator": "GPU",
    "colab": {
      "authorship_tag": "ABX9TyOGF5Lwy9G3LXd0qBBPqk+d",
      "include_colab_link": true,
      "provenance": []
    },
    "gpuClass": "standard",
    "kernelspec": {
      "display_name": "3DicomPlugins_air_remove",
      "language": "python",
      "name": "python3"
    },
    "language_info": {
      "codemirror_mode": {
        "name": "ipython",
        "version": 3
      },
      "file_extension": ".py",
      "mimetype": "text/x-python",
      "name": "python",
      "nbconvert_exporter": "python",
      "pygments_lexer": "ipython3",
      "version": "3.9.5"
    },
    "vscode": {
      "interpreter": {
        "hash": "1b9c5381386cc5f97a409f98efcad8351b151522ffc567939af7a68a910a17a0"
      }
    }
  },
  "nbformat": 4,
  "nbformat_minor": 0
}
